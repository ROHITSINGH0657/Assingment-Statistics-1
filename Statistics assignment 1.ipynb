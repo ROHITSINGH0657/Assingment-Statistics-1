{
 "cells": [
  {
   "cell_type": "code",
   "execution_count": null,
   "id": "f2e25f2e-d415-4d0a-96e1-3ec8c82cb250",
   "metadata": {},
   "outputs": [],
   "source": [
    "Q1: What is Statistics?\n",
    "Ans: Statistics is the Science of Collecting,Organising and analysing data.In other word It is the mathematical discipline\n",
    "to collect and summarize data.also We can say that Statistics is the brach of applied mathematics."
   ]
  },
  {
   "cell_type": "raw",
   "id": "245e86c2-fb1e-4f44-a31f-9d90fbe53ef1",
   "metadata": {},
   "source": [
    "Q2: Define different type of Statistics and give an example of when each type might be used?\n",
    "Ans: There are two type of Statistics Descriptive and Inferential.\n",
    "     DESCRIPTIVE STATISTICS - Statistics that Summaries or describe feature of data set,such as its Central tendency or Dispersion.\n",
    "       Example- measure of Central tendency(Mean,medium,mode), measure of disperson.\n",
    "     INFERENTIAL STATISTICS - Inferential Statistics is focus on making predictions about large gourp of data based on representative\n",
    "    sample of the population.\n",
    "      Example- Z test, T test, F test, Regression analysis."
   ]
  },
  {
   "cell_type": "raw",
   "id": "5ec72f8a-188d-486b-bcd1-04a4c61a15f8",
   "metadata": {},
   "source": [
    "Q3: What are the different type of data and how do they differ from each other?Provide an example of each type of data?\n",
    "Ans: There are Two types of data in Statistics Qualitative and Quantitive.\n",
    " 1) Qualitative Data - This type of data can't be count or measure in form of numbers.this type of data is sorted by category not anumber.\n",
    "    There are two type of Qualitative data-Nominal data and Ordinal data.\n",
    "    Nominal data - Nominal data is used to lable variables without any order and quantative value.Example- Gender(Male,female),\n",
    "                  Marital Status(Married,Single), Nationality(Indian, Germany,usa).\n",
    "    Ordinal Data- Ordinal data have a nutural ordering where number is present in some kind of order by there position on his scale.\n",
    "    Example- Feedback of Coustomer,Grade in Exam(Good,bad,better)\n",
    "    \n",
    " 2) Quantitative Data- It can be expressed in numberical value,making it countable and including statistical data analysis.\n",
    "    Two types of Quantitaive data - Discrete and Continuous.\n",
    "   \n",
    "   Discrete data - The term discrete means distinct or separate.The discrete data contail value that fall under integer or whole number. Example - Nos of student in Class,cost of sell phone,days in a week,Nos of employees.\n",
    "    \n",
    "   Continuous data - Continuous data are in form of fractional number. Example- Height of person,Speed of vehicle,Today Temperture ."
   ]
  },
  {
   "cell_type": "raw",
   "id": "f9364936-7177-4d57-98f7-0f0b172955d2",
   "metadata": {},
   "source": [
    "Q4: Categorise the following datasets with respect to quantitative and qualitative data types:\n",
    "Ans- (i) Grading in exam: A+, A, B+, B, C+, C, D, E = Qualitative data(Ordinal data)\n",
    "(ii) Colour of mangoes: yellow, green, orange, red = Qualitaive data(Nominal data)\n",
    "(iii) Height data of a class: [178.9, 179, 179.5, 176, 177.2, 178.3, 175.8,...]= Quantitative data(Continuous data)\n",
    "(iv) Number of mangoes exported by a farm: [500, 600, 478, 672, ...] = Quantitative data(Discrete data)"
   ]
  },
  {
   "cell_type": "raw",
   "id": "f047c178-6b09-4ff1-9d6d-9e008f4f6717",
   "metadata": {},
   "source": [
    "Q5. Explain the concept of levels of measurement and give an example of a variable for each level.\n",
    "Ans.In Statistics the Veriables and number are define and catogrized using different scale of measurement.\n",
    "There are four level of MEASURMENTS Nominal Scale data,Ordinal Scale data,Interval scale data,Ratio scale data.\n",
    "\n",
    "1) Nominal Scale data- In this level of measurement, the numbers in the variable are used only to classify the data.  \n",
    "In this level of measurement, words, letters, and alpha-numeric symbols can be used.Example- Gender, Colour,Lables\n",
    "\n",
    "2)Ordinal Scale data -In this Measurement Ranking is important and order is matter but differnces cannot be measure. \n",
    "Example- ranking(1st,2nd,3rd),Grade(Best,good,bad)\n",
    "\n",
    "3)Interval Scale data- The interval level of measurement not only classifies and orders the measurements, but it also specifies\n",
    "that the distances between each interval on the scale are equivalent along the scale from low interval to high interval. \n",
    "Example- temprature Variables(30F,60F,90F,120F).\n",
    "\n",
    "4)Ratio Scale data-  In this level of measurement, the observations, in addition to having equal intervals, can have a value of\n",
    "zero as well. Example- Student marks(0,67,40,80,90,50)"
   ]
  },
  {
   "cell_type": "raw",
   "id": "c2eac181-3d01-4cb6-96fe-1bc6f5a63a3f",
   "metadata": {},
   "source": [
    "Q6. Why is it important to understand the level of measurement when analyzing data? Provide an\n",
    "example to illustrate your answer.\n",
    "Ans- It is important to understand the level of measurement of variables in research, because the level of measurement \n",
    "determines the type of statistical analysis that can be conducted, and, therefore, the type of conclusions that can be drawn \n",
    "from the research."
   ]
  },
  {
   "cell_type": "raw",
   "id": "585fd524-fe25-427b-b05a-5add261377ce",
   "metadata": {},
   "source": [
    "Q7. How nominal data type is different from ordinal data type?\n",
    "Ans- The Nominal and Ordinal data types are classified under categorical data type.Nominal Data is used to label variables \n",
    "without any order or quantitative value. Ordinal data have natural ordering where a number is present in some kind of order \n",
    "by their position on the scale."
   ]
  },
  {
   "cell_type": "raw",
   "id": "b80a7b25-ae8a-4418-97cf-f3c589083945",
   "metadata": {},
   "source": [
    "Q8. Which type of plot can be used to display data in terms of range?\n",
    "Ans- Histogram .A histogram is a bar graph-like representation of data that buckets a range of classes into columns along the\n",
    "horizontal x-axis. The vertical y-axis represents the number count or percentage of occurrences in the data for each column.\n",
    "Columns can be used to visualize patterns of data distributions."
   ]
  },
  {
   "cell_type": "raw",
   "id": "e9f192e2-176d-4e82-9cda-7883cf9c89f2",
   "metadata": {},
   "source": [
    "Q9. Describe the difference between descriptive and inferential statistics. Give an example of each\n",
    "type of statistics and explain how they are used.\n",
    "Ans- Descriptive Statistics helps to organize, analyze, and present the data in a meaningful way. Inferential statistics \n",
    "allows comparing data and making predictions and hypotheses with it.\n",
    "Descriptive statistics are used to describe the main features of an entire set of data collected in a study. Inferential \n",
    "statistics are used to draw conclusions and make predictions about an entire population based on the data from a representative\n",
    "sample."
   ]
  },
  {
   "cell_type": "raw",
   "id": "89fd9414-de80-443e-995c-73fd5b4aa746",
   "metadata": {},
   "source": [
    "Q10. What are some common measures of central tendency and variability used in statistics? Explain\n",
    "how each measure can be used to describe a dataset?\n",
    "Ans- Central tendency and variation are two measures used in statistics to summarize data. Measure of central tendency shows \n",
    "where the center or middle of the data set is located, whereas measure of variation shows the dispersion among data values.\n",
    "example- The most common measures of variability are the range, the interquartile range (IQR), variance, and standard deviation."
   ]
  }
 ],
 "metadata": {
  "kernelspec": {
   "display_name": "Python 3 (ipykernel)",
   "language": "python",
   "name": "python3"
  },
  "language_info": {
   "codemirror_mode": {
    "name": "ipython",
    "version": 3
   },
   "file_extension": ".py",
   "mimetype": "text/x-python",
   "name": "python",
   "nbconvert_exporter": "python",
   "pygments_lexer": "ipython3",
   "version": "3.10.8"
  }
 },
 "nbformat": 4,
 "nbformat_minor": 5
}
